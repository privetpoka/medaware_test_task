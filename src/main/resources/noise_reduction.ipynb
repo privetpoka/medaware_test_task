{
 "cells": [
  {
   "cell_type": "code",
   "execution_count": 13,
   "id": "16f459c3-c8ba-4301-8607-c204ca3a2ec7",
   "metadata": {},
   "outputs": [],
   "source": [
    "import os\n",
    "with open(\"task1_input\", \"r\") as f:\n",
    "    lines = f.readlines()        "
   ]
  },
  {
   "cell_type": "code",
   "execution_count": 18,
   "id": "56ecb466-7240-406c-a387-74f4991a80a2",
   "metadata": {},
   "outputs": [
    {
     "name": "stdout",
     "output_type": "stream",
     "text": [
      "None\n",
      "<re.Match object; span=(0, 51), match='01-03-2012 20:12:39 Anna is eating at a restauran>\n"
     ]
    }
   ],
   "source": [
    "import re\n",
    "pattern = re.compile(r\"(0[1-9]|[1-2][0-9]|3[0-1])-(0[1-9]|1[0-2])-[0-9]{4} (2[0-3]|[01][0-9]):[0-5][0-9]:[0-5][0-9] .*\\n\")\n",
    "print(re.fullmatch(pattern, '01-03-2012 20:12:39 Anna is eating at a restaurant'))\n",
    "print(re.fullmatch(pattern, '01-03-2012 20:12:39 Anna is eating at a restaurant\\n'))"
   ]
  },
  {
   "cell_type": "code",
   "execution_count": 19,
   "id": "8d762f88-c9d4-4373-b73c-9064292469c9",
   "metadata": {},
   "outputs": [],
   "source": [
    "with open('task1_output.txt','a') as fw:\n",
    "    for line in lines:\n",
    "        if (re.fullmatch(pattern, line)):\n",
    "            fw.write(line)"
   ]
  },
  {
   "cell_type": "code",
   "execution_count": null,
   "id": "6ddd6d48-92a5-4e5e-80b1-c49ba8aa8fac",
   "metadata": {},
   "outputs": [],
   "source": []
  }
 ],
 "metadata": {
  "kernelspec": {
   "display_name": "Python 3 (ipykernel)",
   "language": "python",
   "name": "python3"
  },
  "language_info": {
   "codemirror_mode": {
    "name": "ipython",
    "version": 3
   },
   "file_extension": ".py",
   "mimetype": "text/x-python",
   "name": "python",
   "nbconvert_exporter": "python",
   "pygments_lexer": "ipython3",
   "version": "3.9.6"
  }
 },
 "nbformat": 4,
 "nbformat_minor": 5
}
